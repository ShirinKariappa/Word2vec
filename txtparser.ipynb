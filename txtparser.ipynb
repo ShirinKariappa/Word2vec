{
 "cells": [
  {
   "cell_type": "code",
   "execution_count": null,
   "metadata": {
    "collapsed": true
   },
   "outputs": [],
   "source": [
    "import re\n",
    "import pandas as pd\n",
    "f=open('filename.text','r')\n",
    "txt=f.read()\n",
    "f.close()"
   ]
  },
  {
   "cell_type": "code",
   "execution_count": null,
   "metadata": {
    "collapsed": true
   },
   "outputs": [],
   "source": [
    "doc=txt.split('Enter word or sentence (EXIT to break): ')"
   ]
  },
  {
   "cell_type": "code",
   "execution_count": null,
   "metadata": {
    "collapsed": true
   },
   "outputs": [],
   "source": [
    "#print(doc)"
   ]
  },
  {
   "cell_type": "code",
   "execution_count": null,
   "metadata": {
    "collapsed": true
   },
   "outputs": [],
   "source": [
    "df=pd.DataFrame(doc)"
   ]
  },
  {
   "cell_type": "code",
   "execution_count": null,
   "metadata": {
    "collapsed": true
   },
   "outputs": [],
   "source": [
    "data1=df.values.flatten()\n"
   ]
  },
  {
   "cell_type": "code",
   "execution_count": null,
   "metadata": {
    "scrolled": false
   },
   "outputs": [],
   "source": [
    "synonyms=open(\"synonym.txt\",\"w\")\n",
    "for i in data1:\n",
    "    #print(i)\n",
    "    reg=re.sub(r'[-+]?[0-9]*\\.?[0-9]*',\"\",i)\n",
    "    #print(reg)\n",
    "    res=reg.replace(\"\\n\",\"\").replace(\"Cosine distance\",\"\").replace(\"Word:\",\"\").replace(\"Word\",\"\").replace(\"Position in vocabulary:\",\"\").replace(\"Out of dictionary word!\",\"\")\n",
    "    #print(res)\n",
    "    result=res.split()[:6]\n",
    "    print(result)\n",
    "    if len(result)>1:\n",
    "        synonyms.write(\",\".join(result))\n",
    "        synonyms.write(\"\\n\")\n",
    "synonyms.close()"
   ]
  },
  {
   "cell_type": "code",
   "execution_count": null,
   "metadata": {
    "collapsed": true
   },
   "outputs": [],
   "source": []
  }
 ],
 "metadata": {
  "kernelspec": {
   "display_name": "Python 3",
   "language": "python",
   "name": "python3"
  },
  "language_info": {
   "codemirror_mode": {
    "name": "ipython",
    "version": 3
   },
   "file_extension": ".py",
   "mimetype": "text/x-python",
   "name": "python",
   "nbconvert_exporter": "python",
   "pygments_lexer": "ipython3",
   "version": "3.6.3"
  }
 },
 "nbformat": 4,
 "nbformat_minor": 2
}
