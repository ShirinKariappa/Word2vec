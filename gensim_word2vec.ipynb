{
 "cells": [
  {
   "cell_type": "code",
   "execution_count": null,
   "metadata": {
    "collapsed": true
   },
   "outputs": [],
   "source": [
    "import gensim\n",
    "import pickle"
   ]
  },
  {
   "cell_type": "code",
   "execution_count": null,
   "metadata": {
    "collapsed": true
   },
   "outputs": [],
   "source": [
    "#load word2vec model\n",
    "model=gensim.models.KeyedVectors.load_word2vec_format('model_path', binary=True)"
   ]
  },
  {
   "cell_type": "code",
   "execution_count": null,
   "metadata": {
    "collapsed": true
   },
   "outputs": [],
   "source": [
    "#f=open('path_of_existing_vocab','r')\n",
    "#word_list=f.read().split('\\n')\n",
    "#f.close()"
   ]
  },
  {
   "cell_type": "code",
   "execution_count": null,
   "metadata": {
    "collapsed": true
   },
   "outputs": [],
   "source": [
    "#save the vocab\n",
    "with open(\"gen_docs\", \"wb\") as fp:   #Pickling\n",
    "        pickle.dump(model.wv.vocab, fp)"
   ]
  },
  {
   "cell_type": "code",
   "execution_count": null,
   "metadata": {
    "collapsed": true
   },
   "outputs": [],
   "source": [
    "vocab = pickle.load( open( \"gen_docs\", \"rb\" ) )\n",
    "#wordout=open(\"filename\",\"w\")\n",
    "synonyms_list=[]\n",
    "for word in vocab:\n",
    "    out=[]\n",
    "    out.append(word)\n",
    "    try:\n",
    "        synonyms=model.wv.most_similar(word)\n",
    "        for term in synonyms:\n",
    "            if(term[1]>0.5):               #consider words with score greater than 0.5\n",
    "                out.append(term[0])\n",
    "    \n",
    "        if len(out)>1:\n",
    "            out=out[:6]                    #limit 5 synonyms for each word\n",
    "            synonyms_list.append(\",\".join(out))\n",
    "            #wordout.write(\",\".join(set(out)))\n",
    "            #wordout.write(\"\\n\")\n",
    "    except  Exception as e:\n",
    "                print(\"Exception\")\n",
    "print(synonyms_list)\n",
    "#wordout.close()"
   ]
  },
  {
   "cell_type": "code",
   "execution_count": null,
   "metadata": {
    "collapsed": true
   },
   "outputs": [],
   "source": []
  }
 ],
 "metadata": {
  "kernelspec": {
   "display_name": "Python 3",
   "language": "python",
   "name": "python3"
  },
  "language_info": {
   "codemirror_mode": {
    "name": "ipython",
    "version": 3
   },
   "file_extension": ".py",
   "mimetype": "text/x-python",
   "name": "python",
   "nbconvert_exporter": "python",
   "pygments_lexer": "ipython3",
   "version": "3.6.3"
  }
 },
 "nbformat": 4,
 "nbformat_minor": 2
}
